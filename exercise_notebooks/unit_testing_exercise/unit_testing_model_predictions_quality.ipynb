{
 "cells": [
  {
   "cell_type": "markdown",
   "source": [
    "# Unit Testing ML Code: Hands-on Exercise (Model Quality)\n",
    "\n",
    "## In this notebook we will explore unit tests for *model prediction quality*\n",
    "\n",
    "#### We will use a classic toy dataset: the Iris plants dataset, which comes included with scikit-learn\n",
    "Dataset details: https://scikit-learn.org/stable/datasets/index.html#iris-plants-dataset\n",
    "\n",
    "As we progress through the course, the complexity of examples will increase, but we will start with something basic. This notebook is designed so that it can be run in isolation, once the setup steps described below are complete. Cells should be run one after the other without skipping any.\n",
    "\n",
    "### Setup\n",
    "\n",
    "Let's begin by importing the dataset and the libraries we are going to use. Make sure you have run `pip install -r requirements.txt` on requirements file located in the same directory as this notebook. We recommend doing this in a separate virtual environment (see dedicated setup lecture).\n",
    "\n",
    "If you need a refresher on jupyter, pandas or numpy, there are some links to resources in the section notes."
   ],
   "metadata": {}
  },
  {
   "cell_type": "code",
   "execution_count": 1,
   "source": [
    "from sklearn import datasets\r\n",
    "import pandas as pd\r\n",
    "import numpy as np\r\n",
    "\r\n",
    "# Access the iris dataset from sklearn\r\n",
    "iris = datasets.load_iris()\r\n",
    "\r\n",
    "# Load the iris data into a pandas dataframe. The `data` and `feature_names`\r\n",
    "# attributes of the dataset are added by default by sklearn. We use them to\r\n",
    "# specify the columns of our dataframes.\r\n",
    "iris_frame = pd.DataFrame(iris.data, columns=iris.feature_names)\r\n",
    "\r\n",
    "# Create a \"target\" column in our dataframe, and set the values to the correct\r\n",
    "# classifications from the dataset.\r\n",
    "iris_frame['target'] = iris.target"
   ],
   "outputs": [],
   "metadata": {
    "pycharm": {
     "is_executing": false,
     "name": "#%%\n"
    }
   }
  },
  {
   "cell_type": "markdown",
   "source": [
    "### Create the Pipelines\n",
    "\n",
    "Below we use both pipelines from the previous exercises:\n",
    "\n",
    "- `SimplePipeline` from the testing inputs lecture\n",
    "- `PipelineWithFeatureEngineering` from the testing data engineering lecture\n",
    "\n",
    "The pipelines have not been changed. We use both so that we can compare predictions between them in our tests."
   ],
   "metadata": {}
  },
  {
   "cell_type": "code",
   "execution_count": 2,
   "source": [
    "from sklearn.linear_model import LogisticRegression\r\n",
    "from sklearn.model_selection import train_test_split\r\n",
    "\r\n",
    "\r\n",
    "class SimplePipeline:\r\n",
    "    def __init__(self):\r\n",
    "        self.frame = None\r\n",
    "        # Shorthand to specify that each value should start out as\r\n",
    "        # None when the class is instantiated.\r\n",
    "        self.X_train, self.X_test, self.y_train, self.Y_test = None, None, None, None\r\n",
    "        self.model = None\r\n",
    "        self.load_dataset()\r\n",
    "    \r\n",
    "    def load_dataset(self):\r\n",
    "        \"\"\"Load the dataset and perform train test split.\"\"\"\r\n",
    "        # fetch from sklearn\r\n",
    "        dataset = datasets.load_iris()\r\n",
    "        \r\n",
    "        # remove units ' (cm)' from variable names\r\n",
    "        self.feature_names = [fn[:-5] for fn in dataset.feature_names]\r\n",
    "        self.frame = pd.DataFrame(dataset.data, columns=self.feature_names)\r\n",
    "        self.frame['target'] = dataset.target\r\n",
    "        \r\n",
    "        # we divide the data set using the train_test_split function from sklearn, \r\n",
    "        # which takes as parameters, the dataframe with the predictor variables, \r\n",
    "        # then the target, then the percentage of data to assign to the test set, \r\n",
    "        # and finally the random_state to ensure reproducibility.\r\n",
    "        self.X_train, self.X_test, self.y_train, self.y_test = train_test_split(\r\n",
    "            self.frame[self.feature_names], self.frame.target, test_size=0.65, random_state=42)\r\n",
    "        \r\n",
    "    def train(self, algorithm=LogisticRegression):\r\n",
    "        \r\n",
    "        # we set up a LogisticRegression classifier with default parameters\r\n",
    "        self.model = algorithm(solver='lbfgs', multi_class='auto')\r\n",
    "        self.model.fit(self.X_train, self.y_train)\r\n",
    "        \r\n",
    "    def predict(self, input_data):\r\n",
    "        return self.model.predict(input_data)\r\n",
    "        \r\n",
    "    def get_accuracy(self):\r\n",
    "        \r\n",
    "        # use our X_test and y_test values generated when we used\r\n",
    "        # `train_test_split` to test accuracy.\r\n",
    "        # score is a method on the Logisitic Regression that \r\n",
    "        # returns the accuracy by default, but can be changed to other metrics, see: \r\n",
    "        # https://scikit-learn.org/stable/modules/generated/sklearn.linear_model.LogisticRegression.html#sklearn.linear_model.LogisticRegression.score\r\n",
    "        return self.model.score(X=self.X_test, y=self.y_test)\r\n",
    "    \r\n",
    "    def run_pipeline(self):\r\n",
    "        \"\"\"Helper method to run multiple pipeline methods with one call.\"\"\"\r\n",
    "        self.load_dataset()\r\n",
    "        self.train()"
   ],
   "outputs": [],
   "metadata": {}
  },
  {
   "cell_type": "code",
   "execution_count": 3,
   "source": [
    "from sklearn.preprocessing import StandardScaler\r\n",
    "\r\n",
    "\r\n",
    "class PipelineWithDataEngineering(SimplePipeline):\r\n",
    "    def __init__(self):\r\n",
    "        # Call the inherited SimplePipeline __init__ method first.\r\n",
    "        super().__init__()\r\n",
    "        \r\n",
    "        # scaler to standardize the variables in the dataset\r\n",
    "        self.scaler = StandardScaler()\r\n",
    "        # Train the scaler once upon pipeline instantiation:\r\n",
    "        # Compute the mean and standard deviation based on the training data\r\n",
    "        self.scaler.fit(self.X_train)\r\n",
    "    \r\n",
    "    def apply_scaler(self):\r\n",
    "        # Scale the test and training data to be of mean 0 and of unit variance\r\n",
    "        self.X_train = self.scaler.transform(self.X_train)\r\n",
    "        self.X_test = self.scaler.transform(self.X_test)\r\n",
    "        \r\n",
    "    def predict(self, input_data):\r\n",
    "        # apply scaler transform on inputs before predictions\r\n",
    "        scaled_input_data = self.scaler.transform(input_data)\r\n",
    "        return self.model.predict(scaled_input_data)\r\n",
    "                  \r\n",
    "    def run_pipeline(self):\r\n",
    "        \"\"\"Helper method to run multiple pipeline methods with one call.\"\"\"\r\n",
    "        self.load_dataset()\r\n",
    "        self.apply_scaler()  # updated in the this class\r\n",
    "        self.train()"
   ],
   "outputs": [],
   "metadata": {}
  },
  {
   "cell_type": "markdown",
   "source": [
    "### Now we Unit Test\n",
    "\n",
    "We will employ a few different tests for model prediction quality:\n",
    "\n",
    "1. A benchmark test: checking model accuracy against a simple benchmark\n",
    "2. A differential test: checking model accuracy from one version to the next\n",
    "\n",
    "To begin, let's establish a base line. The simplest baseline is predicting the most common class. If we run: "
   ],
   "metadata": {}
  },
  {
   "cell_type": "code",
   "execution_count": 4,
   "source": [
    "iris_frame['target'].value_counts()"
   ],
   "outputs": [
    {
     "output_type": "execute_result",
     "data": {
      "text/plain": [
       "2    50\n",
       "1    50\n",
       "0    50\n",
       "Name: target, dtype: int64"
      ]
     },
     "metadata": {},
     "execution_count": 4
    }
   ],
   "metadata": {}
  },
  {
   "cell_type": "markdown",
   "source": [
    "We can see that there an equal number of classifications for the 3 flower types. Let's check the accuracy when always predicting classification 1. Obviously this is a very low benchmark (circa 33% accuracy on the dataset), but it serves to illustrate the sort of checks you should be running with your models. If this test fails, then our model accuracy is terrible and we have probably introduced a severe bug into our code."
   ],
   "metadata": {}
  },
  {
   "cell_type": "code",
   "execution_count": 5,
   "source": [
    "import unittest\r\n",
    "from sklearn.metrics import mean_squared_error, accuracy_score\r\n",
    "\r\n",
    "\r\n",
    "class TestIrisPredictions(unittest.TestCase):\r\n",
    "    def setUp(self):\r\n",
    "        # We prepare both pipelines for use in the tests\r\n",
    "        self.pipeline_v1 = SimplePipeline()\r\n",
    "        self.pipeline_v2 = PipelineWithDataEngineering()\r\n",
    "        self.pipeline_v1.run_pipeline()\r\n",
    "        self.pipeline_v2.run_pipeline()\r\n",
    "        \r\n",
    "        # the benchmark is simply the same classification value for \r\n",
    "        # for every test entry\r\n",
    "        self.benchmark_predictions = [1.0] * len(self.pipeline_v1.y_test)\r\n",
    "\r\n",
    "    def test_accuracy_higher_than_benchmark(self):\r\n",
    "        # Given\r\n",
    "        benchmark_accuracy = accuracy_score(\r\n",
    "            y_true=self.pipeline_v1.y_test,\r\n",
    "            y_pred=self.benchmark_predictions)\r\n",
    "        \r\n",
    "        predictions = self.pipeline_v1.predict(self.pipeline_v1.X_test)\r\n",
    "        \r\n",
    "        # When\r\n",
    "        actual_accuracy = accuracy_score(\r\n",
    "            y_true=self.pipeline_v1.y_test,\r\n",
    "            y_pred=predictions)\r\n",
    "        \r\n",
    "        # Then\r\n",
    "        print(f'model accuracy: {actual_accuracy}, benchmark accuracy: {benchmark_accuracy}')\r\n",
    "        self.assertTrue(actual_accuracy > benchmark_accuracy)\r\n",
    "        \r\n",
    "    def test_accuracy_compared_to_previous_version(self):\r\n",
    "        # When\r\n",
    "        v1_accuracy = self.pipeline_v1.get_accuracy()\r\n",
    "        v2_accuracy = self.pipeline_v2.get_accuracy()\r\n",
    "        print(f'pipeline v1 accuracy: {v1_accuracy}')\r\n",
    "        print(f'pipeline v2 accuracy: {v2_accuracy}')\r\n",
    "        \r\n",
    "        # Then\r\n",
    "        self.assertTrue(v2_accuracy >= v1_accuracy)"
   ],
   "outputs": [],
   "metadata": {}
  },
  {
   "cell_type": "code",
   "execution_count": 6,
   "source": [
    "import sys\r\n",
    "\r\n",
    "\r\n",
    "suite = unittest.TestLoader().loadTestsFromTestCase(TestIrisPredictions)\r\n",
    "unittest.TextTestRunner(verbosity=1, stream=sys.stderr).run(suite)"
   ],
   "outputs": [
    {
     "output_type": "stream",
     "name": "stderr",
     "text": [
      "F."
     ]
    },
    {
     "output_type": "stream",
     "name": "stdout",
     "text": [
      "pipeline v1 accuracy: 0.9693877551020408\n",
      "pipeline v2 accuracy: 0.9591836734693877\n",
      "model accuracy: 0.9693877551020408, benchmark accuracy: 0.32653061224489793\n"
     ]
    },
    {
     "output_type": "stream",
     "name": "stderr",
     "text": [
      "\n",
      "======================================================================\n",
      "FAIL: test_accuracy_compared_to_previous_version (__main__.TestIrisPredictions)\n",
      "----------------------------------------------------------------------\n",
      "Traceback (most recent call last):\n",
      "  File \"C:\\Users\\geoff\\AppData\\Local\\Temp/ipykernel_17944/2220512049.py\", line 42, in test_accuracy_compared_to_previous_version\n",
      "    self.assertTrue(v2_accuracy >= v1_accuracy)\n",
      "AssertionError: False is not true\n",
      "\n",
      "----------------------------------------------------------------------\n",
      "Ran 2 tests in 0.189s\n",
      "\n",
      "FAILED (failures=1)\n"
     ]
    },
    {
     "output_type": "execute_result",
     "data": {
      "text/plain": [
       "<unittest.runner.TextTestResult run=2 errors=0 failures=1>"
      ]
     },
     "metadata": {},
     "execution_count": 6
    }
   ],
   "metadata": {}
  },
  {
   "cell_type": "markdown",
   "source": [
    "## Model Quality Testing: Hands-on Exercise\r\n",
    "1. Change the SimplePipeline class so that the benchmark test fails. Do you understand why the test is failing?\r\n",
    "\r\n",
    "2. Change either the SimplePipeline or the PipelineWithDataEngineering classes so that `test_accuracy_compared_to_previous_version` **passes**. \r\n",
    "\r\n",
    "These tests are a little more open ended than others we have looked at, don't worry if you find them tricky!"
   ],
   "metadata": {}
  },
  {
   "cell_type": "markdown",
   "source": [
    "### 1. Change the SimplePipeline class so that the benchmark test fails"
   ],
   "metadata": {}
  },
  {
   "cell_type": "code",
   "execution_count": 7,
   "source": [
    "import unittest\r\n",
    "from sklearn.metrics import mean_squared_error, accuracy_score\r\n",
    "\r\n",
    "\r\n",
    "class TestIrisPredictionsGN(unittest.TestCase):\r\n",
    "    def setUp(self):\r\n",
    "        # We prepare both pipelines for use in the tests\r\n",
    "        self.pipeline_v1 = SimplePipeline()\r\n",
    "        self.pipeline_v2 = PipelineWithDataEngineering()\r\n",
    "        self.pipeline_v1.run_pipeline()\r\n",
    "        self.pipeline_v2.run_pipeline()\r\n",
    "        \r\n",
    "        # the benchmark is simply the same classification value for \r\n",
    "        # for every test entry\r\n",
    "\r\n",
    "        # Set the benchmark equal to the target to fail the test!\r\n",
    "        self.benchmark_predictions = self.pipeline_v1.y_test\r\n",
    "\r\n",
    "    def test_accuracy_higher_than_benchmark(self):\r\n",
    "        # Given\r\n",
    "        benchmark_accuracy = accuracy_score(\r\n",
    "            y_true=self.pipeline_v1.y_test,\r\n",
    "            y_pred=self.benchmark_predictions)\r\n",
    "        \r\n",
    "        predictions = self.pipeline_v1.predict(self.pipeline_v1.X_test)\r\n",
    "        \r\n",
    "        # When\r\n",
    "        actual_accuracy = accuracy_score(\r\n",
    "            y_true=self.pipeline_v1.y_test,\r\n",
    "            y_pred=predictions)\r\n",
    "        \r\n",
    "        # Then\r\n",
    "        print(f'model accuracy: {actual_accuracy}, benchmark accuracy: {benchmark_accuracy}')\r\n",
    "        self.assertTrue(actual_accuracy > benchmark_accuracy)\r\n",
    "        \r\n",
    "    def test_accuracy_compared_to_previous_version(self):\r\n",
    "        # When\r\n",
    "        v1_accuracy = self.pipeline_v1.get_accuracy()\r\n",
    "        v2_accuracy = self.pipeline_v2.get_accuracy()\r\n",
    "        print(f'pipeline v1 accuracy: {v1_accuracy}')\r\n",
    "        print(f'pipeline v2 accuracy: {v2_accuracy}')\r\n",
    "        \r\n",
    "        # Then\r\n",
    "        self.assertTrue(v2_accuracy >= v1_accuracy)"
   ],
   "outputs": [],
   "metadata": {}
  },
  {
   "cell_type": "code",
   "execution_count": 8,
   "source": [
    "import sys\r\n",
    "\r\n",
    "\r\n",
    "suite = unittest.TestLoader().loadTestsFromTestCase(TestIrisPredictionsGN)\r\n",
    "unittest.TextTestRunner(verbosity=1, stream=sys.stderr).run(suite)"
   ],
   "outputs": [
    {
     "output_type": "stream",
     "name": "stderr",
     "text": [
      "FF"
     ]
    },
    {
     "output_type": "stream",
     "name": "stdout",
     "text": [
      "pipeline v1 accuracy: 0.9693877551020408\n",
      "pipeline v2 accuracy: 0.9591836734693877\n",
      "model accuracy: 0.9693877551020408, benchmark accuracy: 1.0\n"
     ]
    },
    {
     "output_type": "stream",
     "name": "stderr",
     "text": [
      "\n",
      "======================================================================\n",
      "FAIL: test_accuracy_compared_to_previous_version (__main__.TestIrisPredictionsGN)\n",
      "----------------------------------------------------------------------\n",
      "Traceback (most recent call last):\n",
      "  File \"C:\\Users\\geoff\\AppData\\Local\\Temp/ipykernel_17944/119909977.py\", line 44, in test_accuracy_compared_to_previous_version\n",
      "    self.assertTrue(v2_accuracy >= v1_accuracy)\n",
      "AssertionError: False is not true\n",
      "\n",
      "======================================================================\n",
      "FAIL: test_accuracy_higher_than_benchmark (__main__.TestIrisPredictionsGN)\n",
      "----------------------------------------------------------------------\n",
      "Traceback (most recent call last):\n",
      "  File \"C:\\Users\\geoff\\AppData\\Local\\Temp/ipykernel_17944/119909977.py\", line 34, in test_accuracy_higher_than_benchmark\n",
      "    self.assertTrue(actual_accuracy > benchmark_accuracy)\n",
      "AssertionError: False is not true\n",
      "\n",
      "----------------------------------------------------------------------\n",
      "Ran 2 tests in 0.161s\n",
      "\n",
      "FAILED (failures=2)\n"
     ]
    },
    {
     "output_type": "execute_result",
     "data": {
      "text/plain": [
       "<unittest.runner.TextTestResult run=2 errors=0 failures=2>"
      ]
     },
     "metadata": {},
     "execution_count": 8
    }
   ],
   "metadata": {}
  },
  {
   "cell_type": "markdown",
   "source": [
    "### 2. Change either the SimplePipeline or the PipelineWithDataEngineering classes so that 'test_accuracy_compared_to_previous_version' passes"
   ],
   "metadata": {}
  },
  {
   "cell_type": "code",
   "execution_count": 18,
   "source": [
    "from sklearn.preprocessing import StandardScaler\r\n",
    "from sklearn.linear_model import LinearRegression\r\n",
    "\r\n",
    "from sklearn.linear_model import LogisticRegression\r\n",
    "from sklearn.model_selection import train_test_split\r\n",
    "\r\n",
    "\r\n",
    "class SimplePipelineGN:\r\n",
    "    def __init__(self):\r\n",
    "        self.frame = None\r\n",
    "        # Shorthand to specify that each value should start out as\r\n",
    "        # None when the class is instantiated.\r\n",
    "        self.X_train, self.X_test, self.y_train, self.Y_test = None, None, None, None\r\n",
    "        self.model = None\r\n",
    "        self.load_dataset()\r\n",
    "    \r\n",
    "    def load_dataset(self):\r\n",
    "        \"\"\"Load the dataset and perform train test split.\"\"\"\r\n",
    "        # fetch from sklearn\r\n",
    "        dataset = datasets.load_iris()\r\n",
    "        \r\n",
    "        # remove units ' (cm)' from variable names\r\n",
    "        self.feature_names = [fn[:-5] for fn in dataset.feature_names]\r\n",
    "        self.frame = pd.DataFrame(dataset.data, columns=self.feature_names)\r\n",
    "        self.frame['target'] = dataset.target\r\n",
    "        \r\n",
    "        # we divide the data set using the train_test_split function from sklearn, \r\n",
    "        # which takes as parameters, the dataframe with the predictor variables, \r\n",
    "        # then the target, then the percentage of data to assign to the test set, \r\n",
    "        # and finally the random_state to ensure reproducibility.\r\n",
    "        self.X_train, self.X_test, self.y_train, self.y_test = train_test_split(\r\n",
    "            self.frame[self.feature_names], self.frame.target, test_size=0.65, random_state=42)\r\n",
    "        \r\n",
    "    def train(self, algorithm=LinearRegression):\r\n",
    "        \r\n",
    "        # Replace logistic regression with linear regression\r\n",
    "        self.model = algorithm()\r\n",
    "        self.model.fit(self.X_train, self.y_train)\r\n",
    "        \r\n",
    "    def predict(self, input_data):\r\n",
    "        return np.round(self.model.predict(input_data))\r\n",
    "        \r\n",
    "    def get_accuracy(self):\r\n",
    "        \r\n",
    "        # use our X_test and y_test values generated when we used\r\n",
    "        # `train_test_split` to test accuracy.\r\n",
    "        # score is a method on the Logisitic Regression that \r\n",
    "        # returns the accuracy by default, but can be changed to other metrics, see: \r\n",
    "        # https://scikit-learn.org/stable/modules/generated/sklearn.linear_model.LogisticRegression.html#sklearn.linear_model.LogisticRegression.score\r\n",
    "        return self.model.score(X=self.X_test, y=self.y_test)\r\n",
    "    \r\n",
    "    def run_pipeline(self):\r\n",
    "        \"\"\"Helper method to run multiple pipeline methods with one call.\"\"\"\r\n",
    "        self.load_dataset()\r\n",
    "        self.train()\r\n"
   ],
   "outputs": [],
   "metadata": {}
  },
  {
   "cell_type": "code",
   "execution_count": 19,
   "source": [
    "import unittest\r\n",
    "from sklearn.metrics import mean_squared_error, accuracy_score\r\n",
    "\r\n",
    "\r\n",
    "class TestIrisPredictionsGN2(unittest.TestCase):\r\n",
    "    def setUp(self):\r\n",
    "        # We prepare both pipelines for use in the tests\r\n",
    "        self.pipeline_v1 = SimplePipelineGN()\r\n",
    "        self.pipeline_v2 = PipelineWithDataEngineering()\r\n",
    "        self.pipeline_v1.run_pipeline()\r\n",
    "        self.pipeline_v2.run_pipeline()\r\n",
    "        \r\n",
    "        # the benchmark is simply the same classification value for \r\n",
    "        # for every test entry\r\n",
    "        self.benchmark_predictions = [1.0] * len(self.pipeline_v1.y_test)\r\n",
    "\r\n",
    "    def test_accuracy_higher_than_benchmark(self):\r\n",
    "        # Given\r\n",
    "        benchmark_accuracy = accuracy_score(\r\n",
    "            y_true=self.pipeline_v1.y_test,\r\n",
    "            y_pred=self.benchmark_predictions)\r\n",
    "        \r\n",
    "        predictions = self.pipeline_v1.predict(self.pipeline_v1.X_test)\r\n",
    "        \r\n",
    "        # When\r\n",
    "        actual_accuracy = accuracy_score(\r\n",
    "            y_true=self.pipeline_v1.y_test,\r\n",
    "            y_pred=predictions)\r\n",
    "        \r\n",
    "        # Then\r\n",
    "        print(f'model accuracy: {actual_accuracy}, benchmark accuracy: {benchmark_accuracy}')\r\n",
    "        self.assertTrue(actual_accuracy > benchmark_accuracy)\r\n",
    "        \r\n",
    "    def test_accuracy_compared_to_previous_version(self):\r\n",
    "        # When\r\n",
    "        v1_accuracy = self.pipeline_v1.get_accuracy()\r\n",
    "        v2_accuracy = self.pipeline_v2.get_accuracy()\r\n",
    "        print(f'pipeline v1 accuracy: {v1_accuracy}')\r\n",
    "        print(f'pipeline v2 accuracy: {v2_accuracy}')\r\n",
    "        \r\n",
    "        # Then\r\n",
    "        self.assertTrue(v2_accuracy >= v1_accuracy)"
   ],
   "outputs": [],
   "metadata": {}
  },
  {
   "cell_type": "code",
   "execution_count": 20,
   "source": [
    "import sys\r\n",
    "\r\n",
    "\r\n",
    "suite = unittest.TestLoader().loadTestsFromTestCase(TestIrisPredictionsGN2)\r\n",
    "unittest.TextTestRunner(verbosity=1, stream=sys.stderr).run(suite)"
   ],
   "outputs": [
    {
     "output_type": "stream",
     "name": "stderr",
     "text": [
      ".."
     ]
    },
    {
     "output_type": "stream",
     "name": "stdout",
     "text": [
      "pipeline v1 accuracy: 0.9272407796710059\n",
      "pipeline v2 accuracy: 0.9591836734693877\n",
      "model accuracy: 0.9693877551020408, benchmark accuracy: 0.32653061224489793\n"
     ]
    },
    {
     "output_type": "stream",
     "name": "stderr",
     "text": [
      "\n",
      "----------------------------------------------------------------------\n",
      "Ran 2 tests in 0.141s\n",
      "\n",
      "OK\n"
     ]
    },
    {
     "output_type": "execute_result",
     "data": {
      "text/plain": [
       "<unittest.runner.TextTestResult run=2 errors=0 failures=0>"
      ]
     },
     "metadata": {},
     "execution_count": 20
    }
   ],
   "metadata": {}
  }
 ],
 "metadata": {
  "kernelspec": {
   "name": "python3",
   "display_name": "Python 3.8.8 64-bit ('ml-test': conda)"
  },
  "language_info": {
   "codemirror_mode": {
    "name": "ipython",
    "version": 3
   },
   "file_extension": ".py",
   "mimetype": "text/x-python",
   "name": "python",
   "nbconvert_exporter": "python",
   "pygments_lexer": "ipython3",
   "version": "3.8.8"
  },
  "pycharm": {
   "stem_cell": {
    "cell_type": "raw",
    "metadata": {
     "collapsed": false
    },
    "source": []
   }
  },
  "interpreter": {
   "hash": "e7df85cb1a241f88c07e160a26584fcf3791755a9d29209fd56262f65a9d9523"
  }
 },
 "nbformat": 4,
 "nbformat_minor": 1
}