{
 "cells": [
  {
   "cell_type": "markdown",
   "source": [
    "# Unit Testing ML Code: Hands-on Exercise (Configuration)\n",
    "\n",
    "## In this notebook we will explore unit tests for *model configuration*\n",
    "\n",
    "#### We will use a classic toy dataset: the Iris plants dataset, which comes included with scikit-learn\n",
    "Dataset details: https://scikit-learn.org/stable/datasets/index.html#iris-plants-dataset\n",
    "\n",
    "As we progress through the course, the complexity of examples will increase, but we will start with something basic. This notebook is designed so that it can be run in isolation, once the setup steps described below are complete. Cells should be run one after the other without skipping any.\n",
    "\n",
    "### Setup\n",
    "\n",
    "Let's begin by importing the dataset and the libraries we are going to use. Make sure you have run `pip install -r requirements.txt` on requirements file located in the same directory as this notebook. We recommend doing this in a separate virtual environment (see dedicated setup lecture).\n",
    "\n",
    "If you need a refresher on jupyter, pandas or numpy, there are some links to resources in the section notes."
   ],
   "metadata": {}
  },
  {
   "cell_type": "code",
   "execution_count": 1,
   "source": [
    "from sklearn import datasets\r\n",
    "import pandas as pd\r\n",
    "import numpy as np\r\n",
    "\r\n",
    "# Access the iris dataset from sklearn\r\n",
    "iris = datasets.load_iris()\r\n",
    "\r\n",
    "# Load the iris data into a pandas dataframe. The `data` and `feature_names`\r\n",
    "# attributes of the dataset are added by default by sklearn. We use them to\r\n",
    "# specify the columns of our dataframes.\r\n",
    "iris_frame = pd.DataFrame(iris.data, columns=iris.feature_names)\r\n",
    "\r\n",
    "# Create a \"target\" column in our dataframe, and set the values to the correct\r\n",
    "# classifications from the dataset.\r\n",
    "iris_frame['target'] = iris.target"
   ],
   "outputs": [],
   "metadata": {
    "pycharm": {
     "is_executing": false,
     "name": "#%%\n"
    }
   }
  },
  {
   "cell_type": "markdown",
   "source": [
    "### Add the `SimplePipeline` from the Test Input Values notebook (same as first exercise, no changes here)"
   ],
   "metadata": {}
  },
  {
   "cell_type": "code",
   "execution_count": 2,
   "source": [
    "from sklearn.linear_model import LogisticRegression\r\n",
    "from sklearn.model_selection import train_test_split\r\n",
    "\r\n",
    "\r\n",
    "class SimplePipeline:\r\n",
    "    def __init__(self):\r\n",
    "        self.frame = None\r\n",
    "        # Shorthand to specify that each value should start out as\r\n",
    "        # None when the class is instantiated.\r\n",
    "        self.X_train, self.X_test, self.y_train, self.Y_test = None, None, None, None\r\n",
    "        self.model = None\r\n",
    "        self.load_dataset()\r\n",
    "    \r\n",
    "    def load_dataset(self):\r\n",
    "        \"\"\"Load the dataset and perform train test split.\"\"\"\r\n",
    "        # fetch from sklearn\r\n",
    "        dataset = datasets.load_iris()\r\n",
    "        \r\n",
    "        # remove units ' (cm)' from variable names\r\n",
    "        self.feature_names = [fn[:-5] for fn in dataset.feature_names]\r\n",
    "        self.frame = pd.DataFrame(dataset.data, columns=self.feature_names)\r\n",
    "        self.frame['target'] = dataset.target\r\n",
    "        \r\n",
    "        # we divide the data set using the train_test_split function from sklearn, \r\n",
    "        # which takes as parameters, the dataframe with the predictor variables, \r\n",
    "        # then the target, then the percentage of data to assign to the test set, \r\n",
    "        # and finally the random_state to ensure reproducibility.\r\n",
    "        self.X_train, self.X_test, self.y_train, self.y_test = train_test_split(\r\n",
    "            self.frame[self.feature_names], self.frame.target, test_size=0.65, random_state=42)\r\n",
    "        \r\n",
    "    def train(self, algorithm=LogisticRegression):\r\n",
    "        \r\n",
    "        # we set up a LogisticRegression classifier with default parameters\r\n",
    "        self.model = algorithm(solver='lbfgs', multi_class='auto')\r\n",
    "        self.model.fit(self.X_train, self.y_train)\r\n",
    "        \r\n",
    "    def predict(self, input_data):\r\n",
    "        return self.model.predict(input_data)\r\n",
    "        \r\n",
    "    def get_accuracy(self):\r\n",
    "        \r\n",
    "        # use our X_test and y_test values generated when we used\r\n",
    "        # `train_test_split` to test accuracy.\r\n",
    "        # score is a method on the Logisitic Regression that \r\n",
    "        # returns the accuracy by default, but can be changed to other metrics, see: \r\n",
    "        # https://scikit-learn.org/stable/modules/generated/sklearn.linear_model.LogisticRegression.html#sklearn.linear_model.LogisticRegression.score\r\n",
    "        return self.model.score(X=self.X_test, y=self.y_test)\r\n",
    "    \r\n",
    "    def run_pipeline(self):\r\n",
    "        \"\"\"Helper method to run multiple pipeline methods with one call.\"\"\"\r\n",
    "        self.load_dataset()\r\n",
    "        self.train()"
   ],
   "outputs": [],
   "metadata": {}
  },
  {
   "cell_type": "markdown",
   "source": [
    "### Update the Pipeline\n",
    "\n",
    "We now create a new pipeline class which inherits from the `SimplePipeline` with one important modification: The configuration for the model is passed in as an argument when the pipeline object is instantiated. This means that configuration can be set via an external object or file."
   ],
   "metadata": {}
  },
  {
   "cell_type": "code",
   "execution_count": 4,
   "source": [
    "class PipelineWithConfig(SimplePipeline):\r\n",
    "    def __init__(self, config):\r\n",
    "        # Call the inherited SimplePipeline __init__ method first.\r\n",
    "        super().__init__()\r\n",
    "        # Pass in a config object which we use during the train method.\r\n",
    "        self.config = config\r\n",
    "            \r\n",
    "    def train(self, algorithm=LogisticRegression):\r\n",
    "        # note that we instantiate the LogisticRegression classifier \r\n",
    "        # with params from the pipeline config\r\n",
    "        self.model = algorithm(solver=self.config.get('solver'),\r\n",
    "                               multi_class=self.config.get('multi_class'))\r\n",
    "        self.model.fit(self.X_train, self.y_train)"
   ],
   "outputs": [],
   "metadata": {}
  },
  {
   "cell_type": "markdown",
   "source": [
    "### Now we Unit Test\n",
    "\n",
    "We will employ a simple unit test to check the configuration values.\n",
    "\n",
    "Let's say that after extensive testing in the research environment, we deduce that certain types of configuration (parameters passed to the model, preprocessing settings, GPU configurations etc.) are optimal, or that certain configurations tend to be a bad idea. We should then test our configuration is validated against this understanding."
   ],
   "metadata": {}
  },
  {
   "cell_type": "code",
   "execution_count": 5,
   "source": [
    "import unittest\r\n",
    "\r\n",
    "\r\n",
    "# arbitrarily selected for demonstration purposes. In a real\r\n",
    "# system you would define this in config and import into your\r\n",
    "# tests so you didn't have to update config and tests when\r\n",
    "# the values changed.\r\n",
    "ENABLED_MODEL_SOLVERS = {'lbfgs', 'newton-cg'}\r\n",
    "\r\n",
    "\r\n",
    "class TestIrisConfig(unittest.TestCase):\r\n",
    "    def setUp(self):\r\n",
    "        # We prepare the pipeline for use in the tests\r\n",
    "        config = {'solver': 'lbfgs', 'multi_class': 'auto'}\r\n",
    "        self.pipeline = PipelineWithConfig(config=config)\r\n",
    "        self.pipeline.run_pipeline()\r\n",
    "    \r\n",
    "    def test_pipeline_config(self):\r\n",
    "        # Given\r\n",
    "        # fetch model config using sklearn get_params()\r\n",
    "        # https://scikit-learn.org/stable/modules/generated/sklearn.base.BaseEstimator.html#sklearn.base.BaseEstimator.get_params\r\n",
    "        model_params = self.pipeline.model.get_params()\r\n",
    "        \r\n",
    "        # Then\r\n",
    "        self.assertTrue(model_params['solver'] in ENABLED_MODEL_SOLVERS)"
   ],
   "outputs": [],
   "metadata": {}
  },
  {
   "cell_type": "code",
   "execution_count": 6,
   "source": [
    "import sys\r\n",
    "\r\n",
    "\r\n",
    "suite = unittest.TestLoader().loadTestsFromTestCase(TestIrisConfig)\r\n",
    "unittest.TextTestRunner(verbosity=1, stream=sys.stderr).run(suite)"
   ],
   "outputs": [
    {
     "output_type": "stream",
     "name": "stderr",
     "text": [
      ".\n",
      "----------------------------------------------------------------------\n",
      "Ran 1 test in 0.071s\n",
      "\n",
      "OK\n"
     ]
    },
    {
     "output_type": "execute_result",
     "data": {
      "text/plain": [
       "<unittest.runner.TextTestResult run=1 errors=0 failures=0>"
      ]
     },
     "metadata": {},
     "execution_count": 6
    }
   ],
   "metadata": {}
  },
  {
   "cell_type": "markdown",
   "source": [
    "## Model Configuration Testing: Hands-on Exercise\n",
    "Change the model config so that the test fails. Do you understand why the test is failing?"
   ],
   "metadata": {}
  },
  {
   "cell_type": "code",
   "execution_count": 7,
   "source": [
    "import unittest\r\n",
    "\r\n",
    "\r\n",
    "# Replaced lbfgs with sgd to force tests to fail\r\n",
    "ENABLED_MODEL_SOLVERS = {'sgd', 'newton-cg'}\r\n",
    "\r\n",
    "\r\n",
    "class TestIrisConfig(unittest.TestCase):\r\n",
    "    def setUp(self):\r\n",
    "        # We prepare the pipeline for use in the tests\r\n",
    "        config = {'solver': 'lbfgs', 'multi_class': 'auto'}\r\n",
    "        self.pipeline = PipelineWithConfig(config=config)\r\n",
    "        self.pipeline.run_pipeline()\r\n",
    "    \r\n",
    "    def test_pipeline_config(self):\r\n",
    "        # Given\r\n",
    "        # fetch model config using sklearn get_params()\r\n",
    "        # https://scikit-learn.org/stable/modules/generated/sklearn.base.BaseEstimator.html#sklearn.base.BaseEstimator.get_params\r\n",
    "        model_params = self.pipeline.model.get_params()\r\n",
    "        \r\n",
    "        # Then\r\n",
    "        self.assertTrue(model_params['solver'] in ENABLED_MODEL_SOLVERS)"
   ],
   "outputs": [],
   "metadata": {}
  },
  {
   "cell_type": "code",
   "execution_count": 8,
   "source": [
    "import sys\r\n",
    "\r\n",
    "\r\n",
    "suite = unittest.TestLoader().loadTestsFromTestCase(TestIrisConfig)\r\n",
    "unittest.TextTestRunner(verbosity=1, stream=sys.stderr).run(suite)"
   ],
   "outputs": [
    {
     "output_type": "stream",
     "name": "stderr",
     "text": [
      "F\n",
      "======================================================================\n",
      "FAIL: test_pipeline_config (__main__.TestIrisConfig)\n",
      "----------------------------------------------------------------------\n",
      "Traceback (most recent call last):\n",
      "  File \"C:\\Users\\geoff\\AppData\\Local\\Temp/ipykernel_13728/3565513434.py\", line 25, in test_pipeline_config\n",
      "    self.assertTrue(model_params['solver'] in ENABLED_MODEL_SOLVERS)\n",
      "AssertionError: False is not true\n",
      "\n",
      "----------------------------------------------------------------------\n",
      "Ran 1 test in 0.082s\n",
      "\n",
      "FAILED (failures=1)\n"
     ]
    },
    {
     "output_type": "execute_result",
     "data": {
      "text/plain": [
       "<unittest.runner.TextTestResult run=1 errors=0 failures=1>"
      ]
     },
     "metadata": {},
     "execution_count": 8
    }
   ],
   "metadata": {}
  },
  {
   "cell_type": "code",
   "execution_count": null,
   "source": [],
   "outputs": [],
   "metadata": {}
  }
 ],
 "metadata": {
  "kernelspec": {
   "name": "python3",
   "display_name": "Python 3.8.8 64-bit ('ml-test': conda)"
  },
  "language_info": {
   "codemirror_mode": {
    "name": "ipython",
    "version": 3
   },
   "file_extension": ".py",
   "mimetype": "text/x-python",
   "name": "python",
   "nbconvert_exporter": "python",
   "pygments_lexer": "ipython3",
   "version": "3.8.8"
  },
  "pycharm": {
   "stem_cell": {
    "cell_type": "raw",
    "metadata": {
     "collapsed": false
    },
    "source": []
   }
  },
  "interpreter": {
   "hash": "e7df85cb1a241f88c07e160a26584fcf3791755a9d29209fd56262f65a9d9523"
  }
 },
 "nbformat": 4,
 "nbformat_minor": 1
}