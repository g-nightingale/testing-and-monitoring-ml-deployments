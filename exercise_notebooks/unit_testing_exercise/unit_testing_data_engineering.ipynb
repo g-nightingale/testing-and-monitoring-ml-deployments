{
 "cells": [
  {
   "cell_type": "markdown",
   "source": [
    "# Unit Testing ML Code: Hands-on Exercise (Data Engineering)\n",
    "\n",
    "## In this notebook we will explore unit tests for data engineering\n",
    "\n",
    "#### We will use a classic toy dataset: the Iris plants dataset, which comes included with scikit-learn\n",
    "Dataset details: https://scikit-learn.org/stable/datasets/index.html#iris-plants-dataset\n",
    "\n",
    "As we progress through the course, the complexity of examples will increase, but we will start with something basic. This notebook is designed so that it can be run in isolation, once the setup steps described below are complete.\n",
    "\n",
    "### Setup\n",
    "\n",
    "Let's begin by importing the dataset and the libraries we are going to use. Make sure you have run `pip install -r requirements.txt` on requirements file located in the same directory as this notebook. We recommend doing this in a separate virtual environment (see dedicated setup lecture).\n",
    "\n",
    "If you need a refresher on jupyter, pandas or numpy, there are some links to resources in the section notes."
   ],
   "metadata": {}
  },
  {
   "cell_type": "code",
   "execution_count": 1,
   "source": [
    "from sklearn import datasets\r\n",
    "import pandas as pd\r\n",
    "import numpy as np\r\n",
    "\r\n",
    "# Access the iris dataset from sklearn\r\n",
    "iris = datasets.load_iris()\r\n",
    "\r\n",
    "# Load the iris data into a pandas dataframe. The `data` and `feature_names`\r\n",
    "# attributes of the dataset are added by default by sklearn. We use them to\r\n",
    "# specify the columns of our dataframes.\r\n",
    "iris_frame = pd.DataFrame(iris.data, columns=iris.feature_names)\r\n",
    "\r\n",
    "# Create a \"target\" column in our dataframe, and set the values to the correct\r\n",
    "# classifications from the dataset.\r\n",
    "iris_frame['target'] = iris.target"
   ],
   "outputs": [],
   "metadata": {
    "pycharm": {
     "is_executing": false,
     "name": "#%%\n"
    }
   }
  },
  {
   "cell_type": "markdown",
   "source": [
    "### Add the `SimplePipeline` from the Test Input Values notebook (same as previous lecture, no changes here)"
   ],
   "metadata": {}
  },
  {
   "cell_type": "code",
   "execution_count": 2,
   "source": [
    "from sklearn.linear_model import LogisticRegression\r\n",
    "from sklearn.model_selection import train_test_split\r\n",
    "\r\n",
    "\r\n",
    "class SimplePipeline:\r\n",
    "    def __init__(self):\r\n",
    "        self.frame = None\r\n",
    "        # Shorthand to specify that each value should start out as\r\n",
    "        # None when the class is instantiated.\r\n",
    "        self.X_train, self.X_test, self.y_train, self.Y_test = None, None, None, None\r\n",
    "        self.model = None\r\n",
    "        self.load_dataset()\r\n",
    "    \r\n",
    "    def load_dataset(self):\r\n",
    "        \"\"\"Load the dataset and perform train test split.\"\"\"\r\n",
    "        # fetch from sklearn\r\n",
    "        dataset = datasets.load_iris()\r\n",
    "        \r\n",
    "        # remove units ' (cm)' from variable names\r\n",
    "        self.feature_names = [fn[:-5] for fn in dataset.feature_names]\r\n",
    "        self.frame = pd.DataFrame(dataset.data, columns=self.feature_names)\r\n",
    "        self.frame['target'] = dataset.target\r\n",
    "        \r\n",
    "        # we divide the data set using the train_test_split function from sklearn, \r\n",
    "        # which takes as parameters, the dataframe with the predictor variables, \r\n",
    "        # then the target, then the percentage of data to assign to the test set, \r\n",
    "        # and finally the random_state to ensure reproducibility.\r\n",
    "        self.X_train, self.X_test, self.y_train, self.y_test = train_test_split(\r\n",
    "            self.frame[self.feature_names], self.frame.target, test_size=0.65, random_state=42)\r\n",
    "        \r\n",
    "    def train(self, algorithm=LogisticRegression):\r\n",
    "        \r\n",
    "        # we set up a LogisticRegression classifier with default parameters\r\n",
    "        self.model = algorithm(solver='lbfgs', multi_class='auto')\r\n",
    "        self.model.fit(self.X_train, self.y_train)\r\n",
    "        \r\n",
    "    def predict(self, input_data):\r\n",
    "        return self.model.predict(input_data)\r\n",
    "        \r\n",
    "    def get_accuracy(self):\r\n",
    "        \r\n",
    "        # use our X_test and y_test values generated when we used\r\n",
    "        # `train_test_split` to test accuracy.\r\n",
    "        # score is a method on the Logisitic Regression that \r\n",
    "        # returns the accuracy by default, but can be changed to other metrics, see: \r\n",
    "        # https://scikit-learn.org/stable/modules/generated/sklearn.linear_model.LogisticRegression.html#sklearn.linear_model.LogisticRegression.score\r\n",
    "        return self.model.score(X=self.X_test, y=self.y_test)\r\n",
    "    \r\n",
    "    def run_pipeline(self):\r\n",
    "        \"\"\"Helper method to run multiple pipeline methods with one call.\"\"\"\r\n",
    "        self.load_dataset()\r\n",
    "        self.train()"
   ],
   "outputs": [],
   "metadata": {}
  },
  {
   "cell_type": "markdown",
   "source": [
    "### Test Engineered Data (preprocessing)\n",
    "\n",
    "Below we create an updated pipeline which inherits from the SimplePipeline but has new functionality to preprocess the data by applying a scaler. Linear models are sensitive to the scale of the features. For example features with bigger magnitudes tend to dominate if we do not apply a scaler."
   ],
   "metadata": {}
  },
  {
   "cell_type": "code",
   "execution_count": 10,
   "source": [
    "from sklearn.preprocessing import StandardScaler\r\n",
    "\r\n",
    "\r\n",
    "class PipelineWithDataEngineering(SimplePipeline):\r\n",
    "    def __init__(self):\r\n",
    "        # Call the inherited SimplePipeline __init__ method first.\r\n",
    "        super().__init__()\r\n",
    "        \r\n",
    "        # scaler to standardize the variables in the dataset\r\n",
    "        self.scaler = StandardScaler()\r\n",
    "        # Train the scaler once upon pipeline instantiation:\r\n",
    "        # Compute the mean and standard deviation based on the training data\r\n",
    "        self.scaler.fit(self.X_train)\r\n",
    "    \r\n",
    "    def apply_scaler(self):\r\n",
    "        # Scale the test and training data to be of mean 0 and of unit variance\r\n",
    "        self.X_train = self.scaler.transform(self.X_train)\r\n",
    "        self.X_test = self.scaler.transform(self.X_test)\r\n",
    "        \r\n",
    "    def predict(self, input_data):\r\n",
    "        # apply scaler transform on inputs before predictions\r\n",
    "        scaled_input_data = self.scaler.transform(input_data)\r\n",
    "        return self.model.predict(scaled_input_data)\r\n",
    "                  \r\n",
    "    def run_pipeline(self):\r\n",
    "        \"\"\"Helper method to run multiple pipeline methods with one call.\"\"\"\r\n",
    "        self.load_dataset()\r\n",
    "        self.apply_scaler()  # updated in the this class\r\n",
    "        self.train()"
   ],
   "outputs": [],
   "metadata": {}
  },
  {
   "cell_type": "code",
   "execution_count": 11,
   "source": [
    "pipeline = PipelineWithDataEngineering()\r\n",
    "pipeline.run_pipeline()\r\n",
    "accuracy_score = pipeline.get_accuracy()\r\n",
    "print(f'current model accuracy is: {accuracy_score}')"
   ],
   "outputs": [
    {
     "output_type": "stream",
     "name": "stdout",
     "text": [
      "current model accuracy is: 0.9591836734693877\n"
     ]
    }
   ],
   "metadata": {}
  },
  {
   "cell_type": "markdown",
   "source": [
    "### Now we Unit Test\n",
    "We focus specifically on the feature engineering step"
   ],
   "metadata": {}
  },
  {
   "cell_type": "code",
   "execution_count": 5,
   "source": [
    "import unittest\r\n",
    "\r\n",
    "\r\n",
    "class TestIrisDataEngineering(unittest.TestCase):\r\n",
    "    def setUp(self):\r\n",
    "        self.pipeline = PipelineWithDataEngineering()\r\n",
    "        self.pipeline.load_dataset()\r\n",
    "    \r\n",
    "    def test_scaler_preprocessing_brings_x_train_mean_near_zero(self):\r\n",
    "        # Given\r\n",
    "        # convert the dataframe to be a single column with pandas stack\r\n",
    "        original_mean = self.pipeline.X_train.stack().mean()\r\n",
    "        \r\n",
    "        # When\r\n",
    "        self.pipeline.apply_scaler()\r\n",
    "        \r\n",
    "        # Then\r\n",
    "        # The idea behind StandardScaler is that it will transform your data \r\n",
    "        # to center the distribution at 0 and scale the variance at 1.\r\n",
    "        # Therefore we test that the mean has shifted to be less than the original\r\n",
    "        # and close to 0 using assertAlmostEqual to check to 3 decimal places:\r\n",
    "        # https://docs.python.org/3/library/unittest.html#unittest.TestCase.assertAlmostEqual\r\n",
    "        self.assertTrue(original_mean > self.pipeline.X_train.mean())  # X_train is a numpy array at this point.\r\n",
    "        self.assertAlmostEqual(self.pipeline.X_train.mean(), 0.0, places=3)\r\n",
    "        print(f'Original X train mean: {original_mean}')\r\n",
    "        print(f'Transformed X train mean: {self.pipeline.X_train.mean()}')\r\n",
    "        \r\n",
    "    def test_scaler_preprocessing_brings_x_train_std_near_one(self):\r\n",
    "        # When\r\n",
    "        self.pipeline.apply_scaler()\r\n",
    "        \r\n",
    "        # Then\r\n",
    "        # We also check that the standard deviation is close to 1\r\n",
    "        self.assertAlmostEqual(self.pipeline.X_train.std(), 1.0, places=3)\r\n",
    "        print(f'Transformed X train standard deviation : {self.pipeline.X_train.std()}')\r\n",
    "        "
   ],
   "outputs": [],
   "metadata": {}
  },
  {
   "cell_type": "code",
   "execution_count": 12,
   "source": [
    "import sys\r\n",
    "\r\n",
    "\r\n",
    "suite = unittest.TestLoader().loadTestsFromTestCase(TestIrisDataEngineering)\r\n",
    "unittest.TextTestRunner(verbosity=1, stream=sys.stderr).run(suite)"
   ],
   "outputs": [
    {
     "output_type": "stream",
     "name": "stderr",
     "text": [
      ".."
     ]
    },
    {
     "output_type": "stream",
     "name": "stdout",
     "text": [
      "Original X train mean: 3.5889423076923075\n",
      "Transformed X train mean: -5.978123978750843e-17\n",
      "Transformed X train standard deviation : 1.0\n"
     ]
    },
    {
     "output_type": "stream",
     "name": "stderr",
     "text": [
      "\n",
      "----------------------------------------------------------------------\n",
      "Ran 2 tests in 0.042s\n",
      "\n",
      "OK\n"
     ]
    },
    {
     "output_type": "execute_result",
     "data": {
      "text/plain": [
       "<unittest.runner.TextTestResult run=2 errors=0 failures=0>"
      ]
     },
     "metadata": {},
     "execution_count": 12
    }
   ],
   "metadata": {}
  },
  {
   "cell_type": "markdown",
   "source": [
    "## Data Engineering Test: Hands-on Exercise\n",
    "Change the pipeline class preprocessing so that the test fails. Do you understand why the test is failing?"
   ],
   "metadata": {}
  },
  {
   "cell_type": "code",
   "execution_count": 17,
   "source": [
    "from sklearn.preprocessing import StandardScaler\r\n",
    "\r\n",
    "\r\n",
    "class PipelineWithDataEngineering(SimplePipeline):\r\n",
    "    def __init__(self):\r\n",
    "        # Call the inherited SimplePipeline __init__ method first.\r\n",
    "        super().__init__()\r\n",
    "        \r\n",
    "        # scaler to standardize the variables in the dataset\r\n",
    "        self.scaler = StandardScaler()\r\n",
    "        # Train the scaler once upon pipeline instantiation:\r\n",
    "        # Compute the mean and standard deviation based on the training data\r\n",
    "        self.scaler.fit(self.X_train)\r\n",
    "    \r\n",
    "    def apply_scaler(self):\r\n",
    "        # Scale the test and training data to be of mean 0 and of unit variance\r\n",
    "        self.X_train = self.scaler.transform(self.X_train)\r\n",
    "        self.X_test = self.scaler.transform(self.X_test)\r\n",
    "\r\n",
    "        # Add an erroneous data point to skew the data and fail tests\r\n",
    "        self.X_train[0 , 0] = 10.0\r\n",
    "        \r\n",
    "    def predict(self, input_data):\r\n",
    "        # apply scaler transform on inputs before predictions\r\n",
    "        scaled_input_data = self.scaler.transform(input_data)\r\n",
    "        return self.model.predict(scaled_input_data)\r\n",
    "                  \r\n",
    "    def run_pipeline(self):\r\n",
    "        \"\"\"Helper method to run multiple pipeline methods with one call.\"\"\"\r\n",
    "        self.load_dataset()\r\n",
    "        self.apply_scaler()  # updated in the this class\r\n",
    "        self.train()"
   ],
   "outputs": [],
   "metadata": {}
  },
  {
   "cell_type": "code",
   "execution_count": 18,
   "source": [
    "suite = unittest.TestLoader().loadTestsFromTestCase(TestIrisDataEngineering)\r\n",
    "unittest.TextTestRunner(verbosity=1, stream=sys.stderr).run(suite)"
   ],
   "outputs": [
    {
     "output_type": "stream",
     "name": "stderr",
     "text": [
      "FF\n",
      "======================================================================\n",
      "FAIL: test_scaler_preprocessing_brings_x_train_mean_near_zero (__main__.TestIrisDataEngineering)\n",
      "----------------------------------------------------------------------\n",
      "Traceback (most recent call last):\n",
      "  File \"C:\\Users\\geoff\\AppData\\Local\\Temp/ipykernel_6732/4151704491.py\", line 24, in test_scaler_preprocessing_brings_x_train_mean_near_zero\n",
      "    self.assertAlmostEqual(self.pipeline.X_train.mean(), 0.0, places=3)\n",
      "AssertionError: 0.04783808976632523 != 0.0 within 3 places (0.04783808976632523 difference)\n",
      "\n",
      "======================================================================\n",
      "FAIL: test_scaler_preprocessing_brings_x_train_std_near_one (__main__.TestIrisDataEngineering)\n",
      "----------------------------------------------------------------------\n",
      "Traceback (most recent call last):\n",
      "  File \"C:\\Users\\geoff\\AppData\\Local\\Temp/ipykernel_6732/4151704491.py\", line 34, in test_scaler_preprocessing_brings_x_train_std_near_one\n",
      "    self.assertAlmostEqual(self.pipeline.X_train.std(), 1.0, places=3)\n",
      "AssertionError: 1.21592305814796 != 1.0 within 3 places (0.2159230581479601 difference)\n",
      "\n",
      "----------------------------------------------------------------------\n",
      "Ran 2 tests in 0.051s\n",
      "\n",
      "FAILED (failures=2)\n"
     ]
    },
    {
     "output_type": "execute_result",
     "data": {
      "text/plain": [
       "<unittest.runner.TextTestResult run=2 errors=0 failures=2>"
      ]
     },
     "metadata": {},
     "execution_count": 18
    }
   ],
   "metadata": {}
  },
  {
   "cell_type": "code",
   "execution_count": null,
   "source": [],
   "outputs": [],
   "metadata": {}
  }
 ],
 "metadata": {
  "kernelspec": {
   "name": "python3",
   "display_name": "Python 3.8.8 64-bit ('ml-test': conda)"
  },
  "language_info": {
   "codemirror_mode": {
    "name": "ipython",
    "version": 3
   },
   "file_extension": ".py",
   "mimetype": "text/x-python",
   "name": "python",
   "nbconvert_exporter": "python",
   "pygments_lexer": "ipython3",
   "version": "3.8.8"
  },
  "pycharm": {
   "stem_cell": {
    "cell_type": "raw",
    "metadata": {
     "collapsed": false
    },
    "source": []
   }
  },
  "interpreter": {
   "hash": "e7df85cb1a241f88c07e160a26584fcf3791755a9d29209fd56262f65a9d9523"
  }
 },
 "nbformat": 4,
 "nbformat_minor": 1
}